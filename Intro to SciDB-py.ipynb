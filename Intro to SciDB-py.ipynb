{
 "metadata": {
  "celltoolbar": "Slideshow",
  "name": "",
  "signature": "sha256:8b8c51b8fd59efdc5597b00100482263e9b511bae2c60afec851aae52d3d3d5a"
 },
 "nbformat": 3,
 "nbformat_minor": 0,
 "worksheets": [
  {
   "cells": [
    {
     "cell_type": "heading",
     "level": 1,
     "metadata": {
      "slideshow": {
       "slide_type": "slide"
      }
     },
     "source": [
      "Introduction to SciDB-py"
     ]
    },
    {
     "cell_type": "code",
     "collapsed": false,
     "input": [
      "import logging\n",
      "from contextlib import contextmanager\n",
      "from time import time\n",
      "\n",
      "import numpy as np\n",
      "%matplotlib inline\n",
      "import matplotlib.pyplot as plt\n",
      "\n",
      "@contextmanager\n",
      "def show_queries():\n",
      "    try:\n",
      "        logging.getLogger('scidbpy').setLevel(logging.DEBUG)\n",
      "        yield\n",
      "    finally:\n",
      "        logging.getLogger('scidbpy').setLevel(logging.WARNING)"
     ],
     "language": "python",
     "metadata": {
      "slideshow": {
       "slide_type": "skip"
      }
     },
     "outputs": [],
     "prompt_number": 1
    },
    {
     "cell_type": "markdown",
     "metadata": {
      "slideshow": {
       "slide_type": "slide"
      }
     },
     "source": [
      "## Two points of entry:    \n",
      "\n",
      "### A numpy-like data container\n",
      "\n",
      "### A direct interface to the SciDB query language"
     ]
    },
    {
     "cell_type": "heading",
     "level": 2,
     "metadata": {
      "slideshow": {
       "slide_type": "slide"
      }
     },
     "source": [
      "Numpy-like interface..."
     ]
    },
    {
     "cell_type": "code",
     "collapsed": false,
     "input": [
      "from scidbpy import connect\n",
      "sdb = connect()"
     ],
     "language": "python",
     "metadata": {
      "slideshow": {
       "slide_type": "fragment"
      }
     },
     "outputs": [],
     "prompt_number": 2
    },
    {
     "cell_type": "code",
     "collapsed": false,
     "input": [
      "x = sdb.random((3, 4))\n",
      "print x.shape"
     ],
     "language": "python",
     "metadata": {
      "slideshow": {
       "slide_type": "fragment"
      }
     },
     "outputs": [
      {
       "output_type": "stream",
       "stream": "stdout",
       "text": [
        "(3, 4)\n"
       ]
      }
     ],
     "prompt_number": 29
    },
    {
     "cell_type": "code",
     "collapsed": false,
     "input": [
      "print x.dtype"
     ],
     "language": "python",
     "metadata": {
      "slideshow": {
       "slide_type": "fragment"
      }
     },
     "outputs": [
      {
       "output_type": "stream",
       "stream": "stdout",
       "text": [
        "float64\n"
       ]
      }
     ],
     "prompt_number": 30
    },
    {
     "cell_type": "heading",
     "level": 2,
     "metadata": {
      "slideshow": {
       "slide_type": "fragment"
      }
     },
     "source": [
      "with some SciDB-specific embellishments"
     ]
    },
    {
     "cell_type": "code",
     "collapsed": false,
     "input": [
      "print x"
     ],
     "language": "python",
     "metadata": {
      "slideshow": {
       "slide_type": "fragment"
      }
     },
     "outputs": [
      {
       "output_type": "stream",
       "stream": "stdout",
       "text": [
        "SciDBArray('py1100974011317_00001<f0:double> [i0=0:2,1000,0,i1=0:3,1000,0]')\n"
       ]
      }
     ],
     "prompt_number": 31
    },
    {
     "cell_type": "code",
     "collapsed": false,
     "input": [
      "print x.datashape.schema"
     ],
     "language": "python",
     "metadata": {
      "slideshow": {
       "slide_type": "fragment"
      }
     },
     "outputs": [
      {
       "output_type": "stream",
       "stream": "stdout",
       "text": [
        "<f0:double> [i0=0:2,1000,0,i1=0:3,1000,0]\n"
       ]
      }
     ],
     "prompt_number": 32
    },
    {
     "cell_type": "code",
     "collapsed": false,
     "input": [
      "print x.name   # the name in the database"
     ],
     "language": "python",
     "metadata": {
      "slideshow": {
       "slide_type": "fragment"
      }
     },
     "outputs": [
      {
       "output_type": "stream",
       "stream": "stdout",
       "text": [
        "py1100974011317_00001\n"
       ]
      }
     ],
     "prompt_number": 33
    },
    {
     "cell_type": "code",
     "collapsed": false,
     "input": [
      "print x.toarray()  # export to a NumPy array"
     ],
     "language": "python",
     "metadata": {
      "slideshow": {
       "slide_type": "fragment"
      }
     },
     "outputs": [
      {
       "output_type": "stream",
       "stream": "stdout",
       "text": [
        "[[ 0.53324686  0.91782043  0.975708    0.8575567 ]\n",
        " [ 0.69766794  0.40301001  0.65980112  0.55424954]\n",
        " [ 0.42018334  0.946004    0.56281981  0.11867443]]\n"
       ]
      }
     ],
     "prompt_number": 34
    },
    {
     "cell_type": "heading",
     "level": 2,
     "metadata": {
      "slideshow": {
       "slide_type": "slide"
      }
     },
     "source": [
      "Builtin support for sparse arrays"
     ]
    },
    {
     "cell_type": "code",
     "collapsed": false,
     "input": [
      "modis = sdb.wrap_array('all')\n",
      "print modis.shape\n",
      "print \"Number of elements:          %i\" % modis.size\n",
      "print \"Number of nonempty elements: %i\" % modis.count()[0]"
     ],
     "language": "python",
     "metadata": {
      "slideshow": {
       "slide_type": "fragment"
      }
     },
     "outputs": [
      {
       "output_type": "stream",
       "stream": "stdout",
       "text": [
        "(1800001, 3600001)\n",
        "Number of elements:          6480005400001\n",
        "Number of nonempty elements: 15130252"
       ]
      },
      {
       "output_type": "stream",
       "stream": "stdout",
       "text": [
        "\n"
       ]
      }
     ],
     "prompt_number": 35
    },
    {
     "cell_type": "heading",
     "level": 2,
     "metadata": {
      "slideshow": {
       "slide_type": "slide"
      }
     },
     "source": [
      "Math and broadcasting works like you think (except it happens server-side)"
     ]
    },
    {
     "cell_type": "markdown",
     "metadata": {
      "slideshow": {
       "slide_type": "fragment"
      }
     },
     "source": [
      "### Aggregation (min, max, sum, var, std, mean, count)"
     ]
    },
    {
     "cell_type": "code",
     "collapsed": false,
     "input": [
      "axis=1\n",
      "x.sum(axis).toarray()"
     ],
     "language": "python",
     "metadata": {
      "slideshow": {
       "slide_type": "fragment"
      }
     },
     "outputs": [
      {
       "metadata": {},
       "output_type": "pyout",
       "prompt_number": 36,
       "text": [
        "array([ 3.28433199,  2.3147286 ,  2.04768158])"
       ]
      }
     ],
     "prompt_number": 36
    },
    {
     "cell_type": "code",
     "collapsed": false,
     "input": [
      "# what query happened behind the scenes\n",
      "with show_queries():\n",
      "    s = x.sum(1)"
     ],
     "language": "python",
     "metadata": {
      "slideshow": {
       "slide_type": "fragment"
      }
     },
     "outputs": [
      {
       "output_type": "stream",
       "stream": "stderr",
       "text": [
        "DEBUG:scidbpy.interface:store(aggregate(py1100974011317_00001,sum(f0),i0), py1100974011317_00005)\n"
       ]
      }
     ],
     "prompt_number": 37
    },
    {
     "cell_type": "markdown",
     "metadata": {
      "slideshow": {
       "slide_type": "slide"
      }
     },
     "source": [
      "### ufuncs (sin, cos, tan, asin, acos, atan, exp, log, log10)"
     ]
    },
    {
     "cell_type": "code",
     "collapsed": false,
     "input": [
      "with show_queries():\n",
      "    l = sdb.log10(x)\n",
      "print l.toarray()"
     ],
     "language": "python",
     "metadata": {
      "slideshow": {
       "slide_type": "fragment"
      }
     },
     "outputs": [
      {
       "output_type": "stream",
       "stream": "stderr",
       "text": [
        "DEBUG:scidbpy.interface:store(project(apply(py1100974011317_00001,log10_f0,log10(f0)),log10_f0), py1100974011317_00006)\n"
       ]
      },
      {
       "output_type": "stream",
       "stream": "stdout",
       "text": [
        "[[-0.27307169 -0.03724228 -0.01068013 -0.06673716]\n",
        " [-0.15635124 -0.39468417 -0.18058695 -0.25629466]\n",
        " [-0.37656117 -0.02410703 -0.24963063 -0.92564285]]\n"
       ]
      }
     ],
     "prompt_number": 38
    },
    {
     "cell_type": "markdown",
     "metadata": {
      "slideshow": {
       "slide_type": "slide"
      }
     },
     "source": [
      "### Overloaded operators (+, -, /, \\*, \\**)"
     ]
    },
    {
     "cell_type": "code",
     "collapsed": false,
     "input": [
      "with show_queries():\n",
      "    y = (x + 100)\n",
      "print y.toarray()"
     ],
     "language": "python",
     "metadata": {
      "slideshow": {
       "slide_type": "fragment"
      }
     },
     "outputs": [
      {
       "output_type": "stream",
       "stream": "stderr",
       "text": [
        "DEBUG:scidbpy.interface:store(project(apply(py1100974011317_00001,x,(py1100974011317_00001.f0 + 100)),x), py1100974011317_00007)\n"
       ]
      },
      {
       "output_type": "stream",
       "stream": "stdout",
       "text": [
        "[[ 100.53324686  100.91782043  100.975708    100.8575567 ]\n",
        " [ 100.69766794  100.40301001  100.65980112  100.55424954]\n",
        " [ 100.42018334  100.946004    100.56281981  100.11867443]]\n"
       ]
      }
     ],
     "prompt_number": 39
    },
    {
     "cell_type": "markdown",
     "metadata": {
      "slideshow": {
       "slide_type": "slide"
      }
     },
     "source": [
      "# SciDB Query Language Interface\n",
      "\n",
      "* SciDB has it's own language, called the [Array Functional Language](http://scidb.org/HTMLmanual/14.3/scidb_ug/ch17.html) (AFL), for expressing queries.\n",
      "\n",
      "* SciDB-py has a binding to all of these operators\n",
      "\n",
      "* AFL provides a lower-level but finer-grained access to the database"
     ]
    },
    {
     "cell_type": "code",
     "collapsed": false,
     "input": [
      "f = sdb.afl"
     ],
     "language": "python",
     "metadata": {
      "slideshow": {
       "slide_type": "fragment"
      }
     },
     "outputs": [],
     "prompt_number": 40
    },
    {
     "cell_type": "heading",
     "level": 4,
     "metadata": {
      "slideshow": {
       "slide_type": "fragment"
      }
     },
     "source": [
      "How many off-diagonal elements are greater than 0.5?"
     ]
    },
    {
     "cell_type": "code",
     "collapsed": false,
     "input": [
      "q = f.aggregate(f.filter(x, 'f0 > 0.5 and i0 <> i1'), 'count(*)')\n",
      "result = q.eval()  # execute the query\n",
      "print result.toarray()"
     ],
     "language": "python",
     "metadata": {
      "slideshow": {
       "slide_type": "fragment"
      }
     },
     "outputs": [
      {
       "output_type": "stream",
       "stream": "stdout",
       "text": [
        "[7]\n"
       ]
      }
     ],
     "prompt_number": 41
    },
    {
     "cell_type": "heading",
     "level": 3,
     "metadata": {
      "slideshow": {
       "slide_type": "fragment"
      }
     },
     "source": [
      "AFL calls are nestable, and lazily evaluated"
     ]
    },
    {
     "cell_type": "code",
     "collapsed": false,
     "input": [
      "print q.query  # the query that will eventually be executed"
     ],
     "language": "python",
     "metadata": {
      "slideshow": {
       "slide_type": "fragment"
      }
     },
     "outputs": [
      {
       "output_type": "stream",
       "stream": "stdout",
       "text": [
        "aggregate(filter(py1100974011317_00001,f0 > 0.5 and i0 <> i1),count(*))\n"
       ]
      }
     ],
     "prompt_number": 42
    },
    {
     "cell_type": "heading",
     "level": 3,
     "metadata": {
      "slideshow": {
       "slide_type": "subslide"
      }
     },
     "source": [
      "Documentation is pulled from SciDB itself"
     ]
    },
    {
     "cell_type": "code",
     "collapsed": false,
     "input": [
      "print f.apply.__doc__"
     ],
     "language": "python",
     "metadata": {
      "slideshow": {
       "slide_type": "fragment"
      }
     },
     "outputs": [
      {
       "output_type": "stream",
       "stream": "stdout",
       "text": [
        "apply(srcArray {, newAttr, expression}+)\n",
        "\n",
        "Produces a result array with new attributes and computes values for them.\n",
        "\n",
        "Parameters\n",
        "----------\n",
        "\n",
        "    - srcArray: a source array with srcAttrs and srcDims.\n",
        "    - 1 or more pairs of a new attribute and the expression to compute\n",
        "      the values for the attribute.\n",
        "\n",
        "Examples\n",
        "--------\n",
        "\n",
        "    - Given array A <quantity: uint64, sales:double> [year, item] =\n",
        "       year, item, quantity, sales\n",
        "       2011, 2, 7, 31.64\n",
        "       2011, 3, 6, 19.98\n",
        "       2012, 1, 5, 41.65\n",
        "       2012, 2, 9, 40.68\n",
        "       2012, 3, 8, 26.64\n",
        "    - apply(A, unitprice, sales/quantity) <quantity: uint64, sales:\n",
        "      double, unitprice: double> [year, item] =\n",
        "       year, item, quantity, sales, unitprice\n",
        "       2011, 2, 7, 31.64, 4.52\n",
        "       2011, 3, 6, 19.98, 3.33\n",
        "       2012, 1, 5, 41.65, 8.33\n",
        "       2012, 2, 9, 40.68, 4.52\n",
        "       2012, 3, 8, 26.64, 3.33\n"
       ]
      }
     ],
     "prompt_number": 43
    },
    {
     "cell_type": "markdown",
     "metadata": {
      "slideshow": {
       "slide_type": "slide"
      }
     },
     "source": [
      "### Finally, you can send arbitrary queries to SciDB\n",
      "\n",
      "For example, the enterprise edition of SciDB implements a fast algorithm to\n",
      "compute Truncated Singular Value Decomposition. \n",
      "\n",
      "This does not (yet!) have a direct\n",
      "binding to SciDB-py, but here's how you would make one:\n"
     ]
    },
    {
     "cell_type": "code",
     "collapsed": false,
     "input": [
      "sdb = connect('http://10.0.20.195:8080')"
     ],
     "language": "python",
     "metadata": {
      "slideshow": {
       "slide_type": "skip"
      }
     },
     "outputs": [],
     "prompt_number": 3
    },
    {
     "cell_type": "code",
     "collapsed": false,
     "input": [
      "sdb = connect('http://10.0.20.195:8080')\n",
      "\n",
      "def tsvd(x, xT, nu, tol=0.0001, maxit=20):\n",
      "    result = sdb.new_array()\n",
      "    q = \"store(tsvd({x}, {xT}, {nu}, {tol}, {maxit}), {result})\"\n",
      "    sdb.query(q, **locals())\n",
      "    return result\n",
      "\n",
      "flix = sdb.wrap_array('flix')\n",
      "flixt = sdb.wrap_array('flixT')\n",
      "print \"Array shape:                %s\" % (flix.shape,)\n",
      "print \"Number of nonzero elements: %s\" % flix.count()[0]\n",
      "\n",
      "t0 = time()\n",
      "svd = tsvd(flix, flixt, nu=2, tol=.01)\n",
      "t1 = time()\n",
      "\n",
      "print \"%0.1f sec\" % (t1 - t0)"
     ],
     "language": "python",
     "metadata": {
      "slideshow": {
       "slide_type": "fragment"
      }
     },
     "outputs": [
      {
       "output_type": "stream",
       "stream": "stdout",
       "text": [
        "Array shape:                (500000, 18000)\n",
        "Number of nonzero elements: 99446288"
       ]
      },
      {
       "output_type": "stream",
       "stream": "stdout",
       "text": [
        "\n",
        "132.6 sec"
       ]
      },
      {
       "output_type": "stream",
       "stream": "stdout",
       "text": [
        "\n"
       ]
      }
     ],
     "prompt_number": 54
    },
    {
     "cell_type": "heading",
     "level": 1,
     "metadata": {
      "slideshow": {
       "slide_type": "slide"
      }
     },
     "source": [
      "What's next?"
     ]
    },
    {
     "cell_type": "heading",
     "level": 3,
     "metadata": {
      "slideshow": {
       "slide_type": "slide"
      }
     },
     "source": [
      "Lazy-evaluation in the Numpy interface"
     ]
    },
    {
     "cell_type": "markdown",
     "metadata": {
      "slideshow": {
       "slide_type": "fragment"
      }
     },
     "source": [
      "```python\n",
      ">>> x = sdb.zeros((100))\n",
      ">>> y = x + 10\n",
      ">>> print y.name\n",
      "project(apply(py1100970709074_00001,x,(py1100970709074_00001.f0 + 10)),x)\n",
      ">>> z = y[0:5]\n",
      ">>> print z.name\n",
      "subarray(project(apply(py1100970709074_00001,x,(py1100970709074_00001.f0 + 10)),x),0,5)\n",
      ">>> z.toarray()   # first time anything is executed\n",
      "```"
     ]
    },
    {
     "cell_type": "heading",
     "level": 3,
     "metadata": {
      "slideshow": {
       "slide_type": "slide"
      }
     },
     "source": [
      "Richer manipulation of dimensions and attribute objects"
     ]
    },
    {
     "cell_type": "markdown",
     "metadata": {
      "slideshow": {
       "slide_type": "fragment"
      }
     },
     "source": [
      "** (I loathe coding with strings) **\n",
      "\n",
      "**Current Code**\n",
      "\n",
      "```python\n",
      "afl.apply(x, 'intercept', '(-b + sqrt(pow(b, 2) - 4 * a * c)) / (2 * a)')\n",
      "```\n",
      "\n",
      "** Future Code **\n",
      "```python\n",
      "intercept = (x.b - sqrt(x.b ** 2 - 4 * x.a * x.c)) / (2 * x.a)\n",
      "x['intercept'] = intercept\n",
      "```\n"
     ]
    },
    {
     "cell_type": "heading",
     "level": 3,
     "metadata": {
      "slideshow": {
       "slide_type": "slide"
      }
     },
     "source": [
      "High-level, pandas-like interface for joins and groupbys"
     ]
    },
    {
     "cell_type": "markdown",
     "metadata": {
      "slideshow": {
       "slide_type": "fragment"
      }
     },
     "source": [
      "```python\n",
      "sdb.groupby(netflix, 'user').rating.mean()\n",
      "```"
     ]
    },
    {
     "cell_type": "heading",
     "level": 3,
     "metadata": {
      "slideshow": {
       "slide_type": "slide"
      }
     },
     "source": [
      "A backend to [Blaze](http://blaze.pydata.org/)?"
     ]
    }
   ],
   "metadata": {}
  }
 ]
}