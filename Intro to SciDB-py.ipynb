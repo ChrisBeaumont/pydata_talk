{
 "metadata": {
  "celltoolbar": "Slideshow",
  "name": "",
  "signature": "sha256:29bf39e05a974f14d9737f70023f8411192a2695fff0e7d1c016a72937760ffb"
 },
 "nbformat": 3,
 "nbformat_minor": 0,
 "worksheets": [
  {
   "cells": [
    {
     "cell_type": "heading",
     "level": 1,
     "metadata": {
      "slideshow": {
       "slide_type": "slide"
      }
     },
     "source": [
      "Introduction to SciDB-py"
     ]
    },
    {
     "cell_type": "code",
     "collapsed": false,
     "input": [
      "import logging\n",
      "from contextlib import contextmanager\n",
      "\n",
      "import numpy as np\n",
      "%matplotlib inline\n",
      "import matplotlib.pyplot as plt\n",
      "\n",
      "@contextmanager\n",
      "def show_queries():\n",
      "    try:\n",
      "        logging.getLogger('scidbpy').setLevel(logging.DEBUG)\n",
      "        yield\n",
      "    finally:\n",
      "        logging.getLogger('scidbpy').setLevel(logging.WARNING)"
     ],
     "language": "python",
     "metadata": {
      "slideshow": {
       "slide_type": "skip"
      }
     },
     "outputs": [],
     "prompt_number": 11
    },
    {
     "cell_type": "markdown",
     "metadata": {
      "slideshow": {
       "slide_type": "slide"
      }
     },
     "source": [
      "## Two points of entry:    \n",
      "\n",
      "### A numpy-like data container\n",
      "\n",
      "### A direct interface to the SciDB query language"
     ]
    },
    {
     "cell_type": "heading",
     "level": 2,
     "metadata": {
      "slideshow": {
       "slide_type": "slide"
      }
     },
     "source": [
      "Numpy-like interface..."
     ]
    },
    {
     "cell_type": "code",
     "collapsed": false,
     "input": [
      "from scidbpy import connect\n",
      "sdb = connect()"
     ],
     "language": "python",
     "metadata": {
      "slideshow": {
       "slide_type": "fragment"
      }
     },
     "outputs": [],
     "prompt_number": 1
    },
    {
     "cell_type": "code",
     "collapsed": false,
     "input": [
      "x = sdb.random((3, 4))\n",
      "print x.shape"
     ],
     "language": "python",
     "metadata": {
      "slideshow": {
       "slide_type": "fragment"
      }
     },
     "outputs": [
      {
       "output_type": "stream",
       "stream": "stdout",
       "text": [
        "(3, 4)\n"
       ]
      }
     ],
     "prompt_number": 2
    },
    {
     "cell_type": "code",
     "collapsed": false,
     "input": [
      "print x.dtype"
     ],
     "language": "python",
     "metadata": {
      "slideshow": {
       "slide_type": "fragment"
      }
     },
     "outputs": [
      {
       "output_type": "stream",
       "stream": "stdout",
       "text": [
        "float64\n"
       ]
      }
     ],
     "prompt_number": 3
    },
    {
     "cell_type": "heading",
     "level": 2,
     "metadata": {
      "slideshow": {
       "slide_type": "fragment"
      }
     },
     "source": [
      "with some SciDB-specific embellishments"
     ]
    },
    {
     "cell_type": "code",
     "collapsed": false,
     "input": [
      "print x"
     ],
     "language": "python",
     "metadata": {
      "slideshow": {
       "slide_type": "fragment"
      }
     },
     "outputs": [
      {
       "output_type": "stream",
       "stream": "stdout",
       "text": [
        "SciDBArray('py1100967971204_00001<f0:double> [i0=0:2,1000,0,i1=0:3,1000,0]')\n"
       ]
      }
     ],
     "prompt_number": 4
    },
    {
     "cell_type": "code",
     "collapsed": false,
     "input": [
      "print x.datashape.schema"
     ],
     "language": "python",
     "metadata": {
      "slideshow": {
       "slide_type": "fragment"
      }
     },
     "outputs": [
      {
       "output_type": "stream",
       "stream": "stdout",
       "text": [
        "<f0:double> [i0=0:2,1000,0,i1=0:3,1000,0]\n"
       ]
      }
     ],
     "prompt_number": 5
    },
    {
     "cell_type": "code",
     "collapsed": false,
     "input": [
      "print x.name   # the name in the database"
     ],
     "language": "python",
     "metadata": {
      "slideshow": {
       "slide_type": "fragment"
      }
     },
     "outputs": [
      {
       "output_type": "stream",
       "stream": "stdout",
       "text": [
        "py1100967971204_00001\n"
       ]
      }
     ],
     "prompt_number": 6
    },
    {
     "cell_type": "code",
     "collapsed": false,
     "input": [
      "print x.toarray()  # export to a NumPy array"
     ],
     "language": "python",
     "metadata": {
      "slideshow": {
       "slide_type": "fragment"
      }
     },
     "outputs": [
      {
       "output_type": "stream",
       "stream": "stdout",
       "text": [
        "[[ 0.71603901  0.87405034  0.55285419  0.9811043 ]\n",
        " [ 0.14223009  0.17963361  0.75206535  0.79672588]\n",
        " [ 0.32430984  0.77984751  0.427302    0.80224442]]\n"
       ]
      }
     ],
     "prompt_number": 7
    },
    {
     "cell_type": "heading",
     "level": 2,
     "metadata": {
      "slideshow": {
       "slide_type": "slide"
      }
     },
     "source": [
      "Builtin support for sparse arrays"
     ]
    },
    {
     "cell_type": "code",
     "collapsed": false,
     "input": [
      "modis = sdb.wrap_array('all')\n",
      "print modis.shape\n",
      "print \"Number of elements:          %i\" % modis.size\n",
      "print \"Number of nonempty elements: %i\" % modis.count()[0]"
     ],
     "language": "python",
     "metadata": {
      "slideshow": {
       "slide_type": "fragment"
      }
     },
     "outputs": [
      {
       "output_type": "stream",
       "stream": "stdout",
       "text": [
        "(1800001, 3600001)\n",
        "Number of elements:          6480005400001\n",
        "Number of nonempty elements: 15130252"
       ]
      },
      {
       "output_type": "stream",
       "stream": "stdout",
       "text": [
        "\n"
       ]
      }
     ],
     "prompt_number": 8
    },
    {
     "cell_type": "heading",
     "level": 2,
     "metadata": {
      "slideshow": {
       "slide_type": "slide"
      }
     },
     "source": [
      "Math and broadcasting works like you think (except it happens server-side)"
     ]
    },
    {
     "cell_type": "markdown",
     "metadata": {
      "slideshow": {
       "slide_type": "fragment"
      }
     },
     "source": [
      "### Aggregation (min, max, sum, var, std, mean, count)"
     ]
    },
    {
     "cell_type": "code",
     "collapsed": false,
     "input": [
      "axis=1\n",
      "x.sum(axis).toarray()"
     ],
     "language": "python",
     "metadata": {
      "slideshow": {
       "slide_type": "fragment"
      }
     },
     "outputs": [
      {
       "metadata": {},
       "output_type": "pyout",
       "prompt_number": 9,
       "text": [
        "array([ 3.12404785,  1.87065492,  2.33370377])"
       ]
      }
     ],
     "prompt_number": 9
    },
    {
     "cell_type": "code",
     "collapsed": false,
     "input": [
      "# what query happened behind the scenes\n",
      "with show_queries():\n",
      "    s = x.sum(1)"
     ],
     "language": "python",
     "metadata": {
      "slideshow": {
       "slide_type": "fragment"
      }
     },
     "outputs": [
      {
       "output_type": "stream",
       "stream": "stderr",
       "text": [
        "DEBUG:scidbpy.interface:store(aggregate(py1100967971204_00001,sum(f0),i0), py1100967971204_00005)\n"
       ]
      }
     ],
     "prompt_number": 12
    },
    {
     "cell_type": "markdown",
     "metadata": {
      "slideshow": {
       "slide_type": "slide"
      }
     },
     "source": [
      "### ufuncs (sin, cos, tan, asin, acos, atan, exp, log, log10)"
     ]
    },
    {
     "cell_type": "code",
     "collapsed": false,
     "input": [
      "with show_queries():\n",
      "    l = sdb.log10(x)\n",
      "print l.toarray()"
     ],
     "language": "python",
     "metadata": {
      "slideshow": {
       "slide_type": "fragment"
      }
     },
     "outputs": [
      {
       "output_type": "stream",
       "stream": "stderr",
       "text": [
        "DEBUG:scidbpy.interface:store(project(apply(py1100967971204_00001,log10_f0,log10(f0)),log10_f0), py1100967971204_00006)\n"
       ]
      },
      {
       "output_type": "stream",
       "stream": "stdout",
       "text": [
        "[[-0.14506331 -0.05846355 -0.25738939 -0.00828482]\n",
        " [-0.84700853 -0.7456124  -0.12374442 -0.09869108]\n",
        " [-0.48903988 -0.10799031 -0.36926507 -0.09569329]]\n"
       ]
      }
     ],
     "prompt_number": 13
    },
    {
     "cell_type": "markdown",
     "metadata": {
      "slideshow": {
       "slide_type": "slide"
      }
     },
     "source": [
      "### Overloaded operators (+, -, /, \\*, \\**)"
     ]
    },
    {
     "cell_type": "code",
     "collapsed": false,
     "input": [
      "with show_queries():\n",
      "    y = (x + 100)\n",
      "print y.toarray()"
     ],
     "language": "python",
     "metadata": {
      "slideshow": {
       "slide_type": "fragment"
      }
     },
     "outputs": [
      {
       "output_type": "stream",
       "stream": "stderr",
       "text": [
        "DEBUG:scidbpy.interface:store(project(apply(py1100967971204_00001,x,(py1100967971204_00001.f0 + 100)),x), py1100967971204_00007)\n"
       ]
      },
      {
       "output_type": "stream",
       "stream": "stdout",
       "text": [
        "[[ 100.71603901  100.87405034  100.55285419  100.9811043 ]\n",
        " [ 100.14223009  100.17963361  100.75206535  100.79672588]\n",
        " [ 100.32430984  100.77984751  100.427302    100.80224442]]\n"
       ]
      }
     ],
     "prompt_number": 14
    },
    {
     "cell_type": "markdown",
     "metadata": {
      "slideshow": {
       "slide_type": "slide"
      }
     },
     "source": [
      "# SciDB Query Language Interface\n",
      "\n",
      "* SciDB has it's own language, called the [Array Functional Language](http://scidb.org/HTMLmanual/14.3/scidb_ug/ch17.html) (AFL), for expressing queries.\n",
      "\n",
      "* SciDB-py has a binding to all of these operators\n",
      "\n",
      "* AFL provides a lower-level but finer-grained access to the database"
     ]
    },
    {
     "cell_type": "code",
     "collapsed": false,
     "input": [
      "f = sdb.afl"
     ],
     "language": "python",
     "metadata": {
      "slideshow": {
       "slide_type": "fragment"
      }
     },
     "outputs": [],
     "prompt_number": 15
    },
    {
     "cell_type": "heading",
     "level": 4,
     "metadata": {
      "slideshow": {
       "slide_type": "fragment"
      }
     },
     "source": [
      "How many elements are greater than 0.5?"
     ]
    },
    {
     "cell_type": "code",
     "collapsed": false,
     "input": [
      "q = f.aggregate(f.filter(x, 'f0 > 0.5'), 'count(*)')\n",
      "result = q.eval()  # execute the query\n",
      "print result.toarray()"
     ],
     "language": "python",
     "metadata": {
      "slideshow": {
       "slide_type": "fragment"
      }
     },
     "outputs": [
      {
       "output_type": "stream",
       "stream": "stdout",
       "text": [
        "[8]\n"
       ]
      }
     ],
     "prompt_number": 16
    },
    {
     "cell_type": "heading",
     "level": 3,
     "metadata": {
      "slideshow": {
       "slide_type": "fragment"
      }
     },
     "source": [
      "AFL calls are nestable, and lazily evaluated"
     ]
    },
    {
     "cell_type": "code",
     "collapsed": false,
     "input": [
      "print q.query  # the query that will eventually be executed"
     ],
     "language": "python",
     "metadata": {
      "slideshow": {
       "slide_type": "fragment"
      }
     },
     "outputs": [
      {
       "output_type": "stream",
       "stream": "stdout",
       "text": [
        "aggregate(filter(py1100967971204_00001,f0 > 0.5),count(*))\n"
       ]
      }
     ],
     "prompt_number": 17
    },
    {
     "cell_type": "heading",
     "level": 3,
     "metadata": {
      "slideshow": {
       "slide_type": "subslide"
      }
     },
     "source": [
      "Documentation is pulled from SciDB itself"
     ]
    },
    {
     "cell_type": "code",
     "collapsed": false,
     "input": [
      "print f.apply.__doc__"
     ],
     "language": "python",
     "metadata": {
      "slideshow": {
       "slide_type": "fragment"
      }
     },
     "outputs": [
      {
       "output_type": "stream",
       "stream": "stdout",
       "text": [
        "apply(srcArray {, newAttr, expression}+)\n",
        "\n",
        "Produces a result array with new attributes and computes values for them.\n",
        "\n",
        "Parameters\n",
        "----------\n",
        "\n",
        "    - srcArray: a source array with srcAttrs and srcDims.\n",
        "    - 1 or more pairs of a new attribute and the expression to compute\n",
        "      the values for the attribute.\n",
        "\n",
        "Examples\n",
        "--------\n",
        "\n",
        "    - Given array A <quantity: uint64, sales:double> [year, item] =\n",
        "       year, item, quantity, sales\n",
        "       2011, 2, 7, 31.64\n",
        "       2011, 3, 6, 19.98\n",
        "       2012, 1, 5, 41.65\n",
        "       2012, 2, 9, 40.68\n",
        "       2012, 3, 8, 26.64\n",
        "    - apply(A, unitprice, sales/quantity) <quantity: uint64, sales:\n",
        "      double, unitprice: double> [year, item] =\n",
        "       year, item, quantity, sales, unitprice\n",
        "       2011, 2, 7, 31.64, 4.52\n",
        "       2011, 3, 6, 19.98, 3.33\n",
        "       2012, 1, 5, 41.65, 8.33\n",
        "       2012, 2, 9, 40.68, 4.52\n",
        "       2012, 3, 8, 26.64, 3.33\n"
       ]
      }
     ],
     "prompt_number": 18
    },
    {
     "cell_type": "heading",
     "level": 2,
     "metadata": {
      "slideshow": {
       "slide_type": "slide"
      }
     },
     "source": [
      "Example Application: Genomics"
     ]
    },
    {
     "cell_type": "code",
     "collapsed": false,
     "input": [
      "sdb = connect('http://10.0.20.195:8080')"
     ],
     "language": "python",
     "metadata": {
      "slideshow": {
       "slide_type": "skip"
      }
     },
     "outputs": [],
     "prompt_number": 20
    },
    {
     "cell_type": "code",
     "collapsed": false,
     "input": [
      "platform = sdb.wrap_array(\"TCGA_2014_01_15_ILLUMINAHISEQ_RNASEQ_STD\")\n",
      "print platform"
     ],
     "language": "python",
     "metadata": {
      "slideshow": {
       "slide_type": "fragment"
      }
     },
     "outputs": [
      {
       "output_type": "stream",
       "stream": "stdout",
       "text": [
        "SciDBArray('TCGA_2014_01_15_ILLUMINAHISEQ_RNASEQ_STD<value:double> [tumor_type_id=0:25,1,0,sample_id=0:17999,1000,0,illuminahiseq_rnaseq_probe_id=0:44999,1000,0]')\n"
       ]
      }
     ],
     "prompt_number": 21
    },
    {
     "cell_type": "heading",
     "level": 4,
     "metadata": {
      "slideshow": {
       "slide_type": "fragment"
      }
     },
     "source": [
      "Extract slice of array for a particular tumor"
     ]
    },
    {
     "cell_type": "code",
     "collapsed": false,
     "input": [
      "platform_tumor = platform[2, :, :]"
     ],
     "language": "python",
     "metadata": {
      "slideshow": {
       "slide_type": "fragment"
      }
     },
     "outputs": [],
     "prompt_number": 22
    },
    {
     "cell_type": "heading",
     "level": 4,
     "metadata": {
      "slideshow": {
       "slide_type": "fragment"
      }
     },
     "source": [
      "Filter the empty rows and columns"
     ]
    },
    {
     "cell_type": "code",
     "collapsed": false,
     "input": [
      "rows = platform_tumor.count(1)\n",
      "cols = platform_tumor.count(0)\n",
      "platform_dense = platform_tumor[rows, cols]\n",
      "\n",
      "print platform_dense.shape"
     ],
     "language": "python",
     "metadata": {
      "slideshow": {
       "slide_type": "fragment"
      }
     },
     "outputs": [
      {
       "output_type": "stream",
       "stream": "stdout",
       "text": [
        "(878, 20517)\n"
       ]
      }
     ],
     "prompt_number": 23
    },
    {
     "cell_type": "heading",
     "level": 4,
     "metadata": {
      "slideshow": {
       "slide_type": "fragment"
      }
     },
     "source": [
      "Compute the correlation matrix of the probe signatures"
     ]
    },
    {
     "cell_type": "code",
     "collapsed": false,
     "input": [
      "# center and normalize each column of data\n",
      "z = (platform_dense - platform_dense.mean(0)) / platform_dense.std(0)\n",
      "\n",
      "# correlation matrix\n",
      "corr = sdb.dot(z.T, z) / (z.shape[0] - 1)"
     ],
     "language": "python",
     "metadata": {
      "slideshow": {
       "slide_type": "fragment"
      }
     },
     "outputs": [],
     "prompt_number": 24
    },
    {
     "cell_type": "markdown",
     "metadata": {
      "slideshow": {
       "slide_type": "fragment"
      }
     },
     "source": [
      "#### Visualize the highly-correlated probes"
     ]
    },
    {
     "cell_type": "code",
     "collapsed": false,
     "input": [
      "tcor = sdb.afl.filter(corr, 'x > 0.99985 and i0 <> i1').eval()"
     ],
     "language": "python",
     "metadata": {
      "slideshow": {
       "slide_type": "fragment"
      }
     },
     "outputs": [],
     "prompt_number": 26
    },
    {
     "cell_type": "code",
     "collapsed": false,
     "input": [
      "import networkx as nx\n",
      "\n",
      "g = nx.Graph()\n",
      "for i, j, c in tcor.tosparse():\n",
      "    g.add_edge(i, j, weight=c)    \n",
      "pos = nx.graphviz_layout(g)   \n",
      "\n",
      "plt.figure(figsize=(8, 8), dpi=300)\n",
      "\n",
      "nx.draw_networkx_nodes(g, pos, node_color='#565656')\n",
      "nx.draw_networkx_edges(g, pos, alpha=.3)\n",
      "\n",
      "for spine in plt.gca().spines.values():\n",
      "    spine.set_visible(False)\n",
      "plt.xticks([])\n",
      "plt.yticks([])"
     ],
     "language": "python",
     "metadata": {
      "slideshow": {
       "slide_type": "fragment"
      }
     },
     "outputs": [
      {
       "metadata": {},
       "output_type": "pyout",
       "prompt_number": 41,
       "text": [
        "([], <a list of 0 Text yticklabel objects>)"
       ]
      },
      {
       "metadata": {},
       "output_type": "display_data",
       "png": "[encoded data removed]",
       "text": [
        "<matplotlib.figure.Figure at 0x10937f810>"
       ]
      }
     ],
     "prompt_number": 41
    },
    {
     "cell_type": "code",
     "collapsed": false,
     "input": [],
     "language": "python",
     "metadata": {},
     "outputs": []
    }
   ],
   "metadata": {}
  }
 ]
}