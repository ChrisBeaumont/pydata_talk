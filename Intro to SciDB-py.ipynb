{
 "metadata": {
  "name": "",
  "signature": "sha256:4babdbae086b8b010517d562dd51c5b2f3f45353e94a51d5227ebc4a7eda3dc3"
 },
 "nbformat": 3,
 "nbformat_minor": 0,
 "worksheets": [
  {
   "cells": [
    {
     "cell_type": "markdown",
     "metadata": {
      "slideshow": {
       "slide_type": "slide"
      }
     },
     "source": [
      "<center>\n",
      "<h1 class='title'> Introduction to SciDB-py </h1>\n",
      "\n",
      "<h2 class='by'> Chris Beaumont (@BeaumontChris)\n",
      "\n",
      "</h2>\n",
      "\n",
      "<h3> \n",
      "Harvard Center for Astrophysics<br>\n",
      "</h3>\n",
      "\n",
      "<h2> Alex Poliakov </h2>\n",
      "<h3> Paradigm4 </h3>\n",
      "</center>"
     ]
    },
    {
     "cell_type": "code",
     "collapsed": false,
     "input": [
      "import logging\n",
      "from contextlib import contextmanager\n",
      "from time import time\n",
      "\n",
      "import numpy as np\n",
      "%matplotlib inline\n",
      "import matplotlib.pyplot as plt\n",
      "\n",
      "@contextmanager\n",
      "def show_queries():\n",
      "    try:\n",
      "        logging.getLogger('scidbpy').setLevel(logging.DEBUG)\n",
      "        yield\n",
      "    finally:\n",
      "        logging.getLogger('scidbpy').setLevel(logging.WARNING)"
     ],
     "language": "python",
     "metadata": {
      "slideshow": {
       "slide_type": "skip"
      }
     },
     "outputs": [],
     "prompt_number": 11
    },
    {
     "cell_type": "markdown",
     "metadata": {
      "slideshow": {
       "slide_type": "slide"
      }
     },
     "source": [
      "## Two points of entry:    \n",
      "\n",
      "### A numpy-like data container\n",
      "\n",
      "### A direct interface to the SciDB query language"
     ]
    },
    {
     "cell_type": "heading",
     "level": 2,
     "metadata": {
      "slideshow": {
       "slide_type": "slide"
      }
     },
     "source": [
      "Numpy-like interface..."
     ]
    },
    {
     "cell_type": "code",
     "collapsed": false,
     "input": [
      "from scidbpy import connect\n",
      "sdb = connect()"
     ],
     "language": "python",
     "metadata": {
      "slideshow": {
       "slide_type": "fragment"
      }
     },
     "outputs": [],
     "prompt_number": 12
    },
    {
     "cell_type": "code",
     "collapsed": false,
     "input": [
      "x = sdb.random((3, 4))\n",
      "print x.shape"
     ],
     "language": "python",
     "metadata": {
      "slideshow": {
       "slide_type": "fragment"
      }
     },
     "outputs": [
      {
       "output_type": "stream",
       "stream": "stdout",
       "text": [
        "(3, 4)\n"
       ]
      }
     ],
     "prompt_number": 13
    },
    {
     "cell_type": "code",
     "collapsed": false,
     "input": [
      "print x.dtype"
     ],
     "language": "python",
     "metadata": {
      "slideshow": {
       "slide_type": "fragment"
      }
     },
     "outputs": [
      {
       "output_type": "stream",
       "stream": "stdout",
       "text": [
        "float64\n"
       ]
      }
     ],
     "prompt_number": 14
    },
    {
     "cell_type": "heading",
     "level": 2,
     "metadata": {
      "slideshow": {
       "slide_type": "fragment"
      }
     },
     "source": [
      "with some SciDB-specific embellishments"
     ]
    },
    {
     "cell_type": "code",
     "collapsed": false,
     "input": [
      "print x"
     ],
     "language": "python",
     "metadata": {
      "slideshow": {
       "slide_type": "fragment"
      }
     },
     "outputs": [
      {
       "output_type": "stream",
       "stream": "stdout",
       "text": [
        "SciDBArray('py1100982984677_00001<f0:double> [i0=0:2,1000,0,i1=0:3,1000,0]')\n"
       ]
      }
     ],
     "prompt_number": 15
    },
    {
     "cell_type": "code",
     "collapsed": false,
     "input": [
      "print x.datashape.schema"
     ],
     "language": "python",
     "metadata": {
      "slideshow": {
       "slide_type": "fragment"
      }
     },
     "outputs": [
      {
       "output_type": "stream",
       "stream": "stdout",
       "text": [
        "<f0:double> [i0=0:2,1000,0,i1=0:3,1000,0]\n"
       ]
      }
     ],
     "prompt_number": 16
    },
    {
     "cell_type": "code",
     "collapsed": false,
     "input": [
      "print x.name   # the name in the database"
     ],
     "language": "python",
     "metadata": {
      "slideshow": {
       "slide_type": "fragment"
      }
     },
     "outputs": [
      {
       "output_type": "stream",
       "stream": "stdout",
       "text": [
        "py1100982984677_00001\n"
       ]
      }
     ],
     "prompt_number": 17
    },
    {
     "cell_type": "code",
     "collapsed": false,
     "input": [
      "print x.toarray()  # export to a NumPy array"
     ],
     "language": "python",
     "metadata": {
      "slideshow": {
       "slide_type": "fragment"
      }
     },
     "outputs": [
      {
       "output_type": "stream",
       "stream": "stdout",
       "text": [
        "[[ 0.69589454  0.52165686  0.59930771  0.25973774]\n",
        " [ 0.62657914  0.88324064  0.57664526  0.11271152]\n",
        " [ 0.50836883  0.26293785  0.87235561  0.412448  ]]\n"
       ]
      }
     ],
     "prompt_number": 18
    },
    {
     "cell_type": "heading",
     "level": 2,
     "metadata": {
      "slideshow": {
       "slide_type": "slide"
      }
     },
     "source": [
      "Builtin support for sparse arrays"
     ]
    },
    {
     "cell_type": "code",
     "collapsed": false,
     "input": [
      "modis = sdb.wrap_array('all')\n",
      "print modis.shape\n",
      "print \"Number of elements:          %i\" % modis.size\n",
      "print \"Number of nonempty elements: %i\" % modis.count()[0]"
     ],
     "language": "python",
     "metadata": {
      "slideshow": {
       "slide_type": "fragment"
      }
     },
     "outputs": [
      {
       "output_type": "stream",
       "stream": "stdout",
       "text": [
        "(1800001, 3600001)\n",
        "Number of elements:          6480005400001\n",
        "Number of nonempty elements: 15130252"
       ]
      },
      {
       "output_type": "stream",
       "stream": "stdout",
       "text": [
        "\n"
       ]
      }
     ],
     "prompt_number": 19
    },
    {
     "cell_type": "heading",
     "level": 2,
     "metadata": {
      "slideshow": {
       "slide_type": "slide"
      }
     },
     "source": [
      "Math and broadcasting works like you think (except it happens server-side)"
     ]
    },
    {
     "cell_type": "markdown",
     "metadata": {
      "slideshow": {
       "slide_type": "fragment"
      }
     },
     "source": [
      "### Aggregation (min, max, sum, var, std, mean, count)"
     ]
    },
    {
     "cell_type": "code",
     "collapsed": false,
     "input": [
      "axis=1\n",
      "x.sum(axis).toarray()"
     ],
     "language": "python",
     "metadata": {
      "slideshow": {
       "slide_type": "fragment"
      }
     },
     "outputs": [
      {
       "metadata": {},
       "output_type": "pyout",
       "prompt_number": 20,
       "text": [
        "array([ 2.07659685,  2.19917657,  2.05611029])"
       ]
      }
     ],
     "prompt_number": 20
    },
    {
     "cell_type": "code",
     "collapsed": false,
     "input": [
      "# what query happened behind the scenes\n",
      "with show_queries():\n",
      "    s = x.sum(1)"
     ],
     "language": "python",
     "metadata": {
      "slideshow": {
       "slide_type": "fragment"
      }
     },
     "outputs": [
      {
       "output_type": "stream",
       "stream": "stderr",
       "text": [
        "DEBUG:scidbpy.interface:store(aggregate(py1100982984677_00001,sum(f0),i0), py1100982984677_00005)\n"
       ]
      }
     ],
     "prompt_number": 21
    },
    {
     "cell_type": "markdown",
     "metadata": {
      "slideshow": {
       "slide_type": "slide"
      }
     },
     "source": [
      "### ufuncs (sin, cos, tan, asin, acos, atan, exp, log, log10)"
     ]
    },
    {
     "cell_type": "code",
     "collapsed": false,
     "input": [
      "with show_queries():\n",
      "    l = sdb.log10(x)\n",
      "print l.toarray()"
     ],
     "language": "python",
     "metadata": {
      "slideshow": {
       "slide_type": "fragment"
      }
     },
     "outputs": [
      {
       "output_type": "stream",
       "stream": "stderr",
       "text": [
        "DEBUG:scidbpy.interface:store(project(apply(py1100982984677_00001,log10_f0,log10(f0)),log10_f0), py1100982984677_00006)\n"
       ]
      },
      {
       "output_type": "stream",
       "stream": "stdout",
       "text": [
        "[[-0.15745657 -0.28261508 -0.22235014 -0.58546493]\n",
        " [-0.20302407 -0.05392096 -0.23909127 -0.94803168]\n",
        " [-0.29382108 -0.58014689 -0.05930644 -0.3846308 ]]\n"
       ]
      }
     ],
     "prompt_number": 22
    },
    {
     "cell_type": "markdown",
     "metadata": {
      "slideshow": {
       "slide_type": "slide"
      }
     },
     "source": [
      "### Overloaded operators (+, -, /, \\*, \\**)"
     ]
    },
    {
     "cell_type": "code",
     "collapsed": false,
     "input": [
      "with show_queries():\n",
      "    y = (x + 100)\n",
      "print y.toarray()"
     ],
     "language": "python",
     "metadata": {
      "slideshow": {
       "slide_type": "fragment"
      }
     },
     "outputs": [
      {
       "output_type": "stream",
       "stream": "stderr",
       "text": [
        "DEBUG:scidbpy.interface:store(project(apply(py1100982984677_00001,x,(py1100982984677_00001.f0 + 100)),x), py1100982984677_00007)\n"
       ]
      },
      {
       "output_type": "stream",
       "stream": "stdout",
       "text": [
        "[[ 100.69589454  100.52165686  100.59930771  100.25973774]\n",
        " [ 100.62657914  100.88324064  100.57664526  100.11271152]\n",
        " [ 100.50836883  100.26293785  100.87235561  100.412448  ]]\n"
       ]
      }
     ],
     "prompt_number": 23
    },
    {
     "cell_type": "markdown",
     "metadata": {
      "slideshow": {
       "slide_type": "slide"
      }
     },
     "source": [
      "# SciDB Query Language Interface\n",
      "\n",
      "* SciDB has it's own language, called the [Array Functional Language](http://scidb.org/HTMLmanual/14.3/scidb_ug/ch17.html) (AFL), for expressing queries."
     ]
    },
    {
     "cell_type": "markdown",
     "metadata": {
      "slideshow": {
       "slide_type": "fragment"
      }
     },
     "source": [
      "* SciDB-py has a binding to all of these operators\n"
     ]
    },
    {
     "cell_type": "markdown",
     "metadata": {
      "slideshow": {
       "slide_type": "fragment"
      }
     },
     "source": [
      "\n",
      "* AFL provides a lower-level but finer-grained access to the database"
     ]
    },
    {
     "cell_type": "code",
     "collapsed": false,
     "input": [
      "f = sdb.afl"
     ],
     "language": "python",
     "metadata": {
      "slideshow": {
       "slide_type": "fragment"
      }
     },
     "outputs": [],
     "prompt_number": 24
    },
    {
     "cell_type": "heading",
     "level": 4,
     "metadata": {
      "slideshow": {
       "slide_type": "fragment"
      }
     },
     "source": [
      "How many off-diagonal elements are greater than 0.5?"
     ]
    },
    {
     "cell_type": "code",
     "collapsed": false,
     "input": [
      "q = f.aggregate(f.filter(x, 'f0 > 0.5 and i0 <> i1'), \n",
      "                'count(*)')\n",
      "result = q.eval()  # execute the query\n",
      "print result.toarray()"
     ],
     "language": "python",
     "metadata": {
      "slideshow": {
       "slide_type": "fragment"
      }
     },
     "outputs": [
      {
       "output_type": "stream",
       "stream": "stdout",
       "text": [
        "[5]\n"
       ]
      }
     ],
     "prompt_number": 25
    },
    {
     "cell_type": "heading",
     "level": 4,
     "metadata": {
      "slideshow": {
       "slide_type": "fragment"
      }
     },
     "source": [
      "AFL calls are nestable, and lazily evaluated"
     ]
    },
    {
     "cell_type": "code",
     "collapsed": false,
     "input": [
      "print q.query  # the query that will eventually be executed"
     ],
     "language": "python",
     "metadata": {
      "slideshow": {
       "slide_type": "fragment"
      }
     },
     "outputs": [
      {
       "output_type": "stream",
       "stream": "stdout",
       "text": [
        "aggregate(filter(py1100982984677_00001,f0 > 0.5 and i0 <> i1),count(*))\n"
       ]
      }
     ],
     "prompt_number": 26
    },
    {
     "cell_type": "heading",
     "level": 3,
     "metadata": {
      "slideshow": {
       "slide_type": "fragment"
      }
     },
     "source": [
      "Documentation is pulled from SciDB itself"
     ]
    },
    {
     "cell_type": "code",
     "collapsed": false,
     "input": [
      "print f.apply.__doc__"
     ],
     "language": "python",
     "metadata": {
      "slideshow": {
       "slide_type": "fragment"
      }
     },
     "outputs": [
      {
       "output_type": "stream",
       "stream": "stdout",
       "text": [
        "apply(srcArray {, newAttr, expression}+)\n",
        "\n",
        "Produces a result array with new attributes and computes values for them.\n",
        "\n",
        "Parameters\n",
        "----------\n",
        "\n",
        "    - srcArray: a source array with srcAttrs and srcDims.\n",
        "    - 1 or more pairs of a new attribute and the expression to compute\n",
        "      the values for the attribute.\n",
        "\n",
        "Examples\n",
        "--------\n",
        "\n",
        "    - Given array A <quantity: uint64, sales:double> [year, item] =\n",
        "       year, item, quantity, sales\n",
        "       2011, 2, 7, 31.64\n",
        "       2011, 3, 6, 19.98\n",
        "       2012, 1, 5, 41.65\n",
        "       2012, 2, 9, 40.68\n",
        "       2012, 3, 8, 26.64\n",
        "    - apply(A, unitprice, sales/quantity) <quantity: uint64, sales:\n",
        "      double, unitprice: double> [year, item] =\n",
        "       year, item, quantity, sales, unitprice\n",
        "       2011, 2, 7, 31.64, 4.52\n",
        "       2011, 3, 6, 19.98, 3.33\n",
        "       2012, 1, 5, 41.65, 8.33\n",
        "       2012, 2, 9, 40.68, 4.52\n",
        "       2012, 3, 8, 26.64, 3.33\n"
       ]
      }
     ],
     "prompt_number": 27
    },
    {
     "cell_type": "markdown",
     "metadata": {
      "slideshow": {
       "slide_type": "slide"
      }
     },
     "source": [
      "### Finally, you can send arbitrary queries to SciDB\n",
      "\n",
      "* The enterprise edition of SciDB implements a fast algorithm to perform SVD on sparse arrays\n",
      "* No direct binding in SciDB-py (yet!), but here's how you would make one:\n"
     ]
    },
    {
     "cell_type": "code",
     "collapsed": false,
     "input": [
      "sdb = connect('http://10.0.20.195:8080')"
     ],
     "language": "python",
     "metadata": {
      "slideshow": {
       "slide_type": "skip"
      }
     },
     "outputs": [],
     "prompt_number": 28
    },
    {
     "cell_type": "code",
     "collapsed": false,
     "input": [
      "def tsvd(x, xT, nu, tol=0.0001, maxit=20):\n",
      "    result = sdb.new_array()\n",
      "    q = \"store(tsvd({x}, {xT}, {nu}, {tol}, {maxit}), {result})\"\n",
      "    sdb.query(q, **locals())\n",
      "    return result\n",
      "\n",
      "flix = sdb.wrap_array('flix')\n",
      "flixt = sdb.wrap_array('flixT')\n",
      "print \"Array shape:                %s\" % (flix.shape,)\n",
      "print \"Number of nonzero elements: %s\" % flix.count()[0]\n",
      "\n",
      "t0 = time()\n",
      "svd = tsvd(flix, flixt, nu=2, tol=.01)\n",
      "t1 = time()\n",
      "\n",
      "print \"%0.1f sec\" % (t1 - t0)"
     ],
     "language": "python",
     "metadata": {
      "slideshow": {
       "slide_type": "fragment"
      }
     },
     "outputs": [
      {
       "output_type": "stream",
       "stream": "stdout",
       "text": [
        "Array shape:                (500000, 18000)\n",
        "Number of nonzero elements: 99446288"
       ]
      },
      {
       "output_type": "stream",
       "stream": "stdout",
       "text": [
        "\n",
        "17.7 sec"
       ]
      },
      {
       "output_type": "stream",
       "stream": "stdout",
       "text": [
        "\n"
       ]
      }
     ],
     "prompt_number": 29
    },
    {
     "cell_type": "code",
     "collapsed": false,
     "input": [
      "vec0 = svd[0, :, 0].toarray()\n",
      "vec1 = svd[0, :, 1].toarray()\n",
      "\n",
      "plt.figure(figsize=(8, 8), dpi=200)\n",
      "plt.plot(vec0, vec1, '.k', alpha=.01)"
     ],
     "language": "python",
     "metadata": {},
     "outputs": [
      {
       "metadata": {},
       "output_type": "pyout",
       "prompt_number": 35,
       "text": [
        "[<matplotlib.lines.Line2D at 0x10074d510>]"
       ]
      },
      {
       "metadata": {},
       "output_type": "display_data",
       "png": "[encoded data removed]",
       "text": [
        "<matplotlib.figure.Figure at 0x101c5ba50>"
       ]
      }
     ],
     "prompt_number": 35
    },
    {
     "cell_type": "heading",
     "level": 1,
     "metadata": {
      "slideshow": {
       "slide_type": "slide"
      }
     },
     "source": [
      "[GIS](modis.slides.html?transition=none)"
     ]
    },
    {
     "cell_type": "heading",
     "level": 1,
     "metadata": {
      "slideshow": {
       "slide_type": "slide"
      }
     },
     "source": [
      "[Astronomy](nicer.slides.html?transition=none)"
     ]
    },
    {
     "cell_type": "heading",
     "level": 1,
     "metadata": {
      "slideshow": {
       "slide_type": "slide"
      }
     },
     "source": [
      "What's next?"
     ]
    },
    {
     "cell_type": "heading",
     "level": 3,
     "metadata": {
      "slideshow": {
       "slide_type": "slide"
      }
     },
     "source": [
      "Lazy-evaluation in the Numpy interface"
     ]
    },
    {
     "cell_type": "markdown",
     "metadata": {
      "slideshow": {
       "slide_type": "fragment"
      }
     },
     "source": [
      "```python\n",
      ">>> x = sdb.zeros((100))\n",
      "\n",
      ">>> y = x + 10\n",
      ">>> print y.name\n",
      "project(apply(py12345_01,x,(py1100970709074_00001.f0 + 10)),x)\n",
      "\n",
      ">>> z = y[0:5]\n",
      ">>> print z.name\n",
      "subarray(project(apply(py12345_01,x,(py12345_01.f0 + 10)),x),0,5)\n",
      "\n",
      ">>> z.toarray()   # first time anything is executed\n",
      "```"
     ]
    },
    {
     "cell_type": "heading",
     "level": 3,
     "metadata": {
      "slideshow": {
       "slide_type": "slide"
      }
     },
     "source": [
      "Richer manipulation of dimensions and attribute objects"
     ]
    },
    {
     "cell_type": "markdown",
     "metadata": {
      "slideshow": {
       "slide_type": "fragment"
      }
     },
     "source": [
      "<h4> Current Code </h4>\n",
      "\n",
      "```python\n",
      "afl.apply(x, \n",
      "          'intercept', \n",
      "          '(-b + sqrt(pow(b, 2) - 4 * a * c)) / (2 * a)')\n",
      "```\n",
      "\n",
      "<h4> Future Code </h4>\n",
      "\n",
      "```python\n",
      "intercept = (-x.b - sqrt(x.b ** 2 - 4 * x.a * x.c)) / (2 * x.a)\n",
      "x['intercept'] = intercept\n",
      "```"
     ]
    },
    {
     "cell_type": "heading",
     "level": 3,
     "metadata": {
      "slideshow": {
       "slide_type": "slide"
      }
     },
     "source": [
      "High-level, pandas-like interface for joins and groupbys"
     ]
    },
    {
     "cell_type": "markdown",
     "metadata": {
      "slideshow": {
       "slide_type": "fragment"
      }
     },
     "source": [
      "```python\n",
      "sdb.groupby(netflix, 'user').rating.mean()\n",
      "```"
     ]
    },
    {
     "cell_type": "heading",
     "level": 3,
     "metadata": {
      "slideshow": {
       "slide_type": "slide"
      }
     },
     "source": [
      "A backend to [Blaze](http://blaze.pydata.org/)?"
     ]
    },
    {
     "cell_type": "code",
     "collapsed": false,
     "input": [
      "from IPython.display import display, HTML\n",
      "\n",
      "s = \"\"\"\n",
      "<style>\n",
      "\n",
      ".rendered_html {\n",
      "    font-family: \"proxima-nova\", helvetica;\n",
      "    font-size: 150%;\n",
      "    line-height: 1.3;\n",
      "}\n",
      "\n",
      ".rendered_html h1 {\n",
      "    margin: 0.25em 0em 0.5em;\n",
      "    color: #932D16;\n",
      "    text-align: center;\n",
      "    line-height: 1.2; \n",
      "    page-break-before: always;\n",
      "}\n",
      "\n",
      ".rendered_html h2 {\n",
      "    margin: 1.1em 0em 0.5em;\n",
      "    color: #932D16;\n",
      "    line-height: 1.2;\n",
      "}\n",
      "\n",
      ".rendered_html h3 {\n",
      "    margin: 1.1em 0em 0.5em;\n",
      "    color: #303030;\n",
      "    line-height: 1.2;\n",
      "}\n",
      "\n",
      ".rendered_html li {\n",
      "    line-height: 1.5; \n",
      "}\n",
      "\n",
      ".prompt {\n",
      "    font-size: 120%; \n",
      "}\n",
      "\n",
      ".CodeMirror-lines {\n",
      "    font-size: 120%; \n",
      "}\n",
      "\n",
      ".output_area {\n",
      "    font-size: 120%; \n",
      "}\n",
      "\n",
      "#notebook {\n",
      "    background-image: url('files/images/witewall_3.png');\n",
      "}\n",
      "\n",
      "h1.bigtitle {\n",
      "    margin: 4cm 1cm 4cm 1cm;\n",
      "    font-size: 300%;\n",
      "}\n",
      "\n",
      "h3.point {\n",
      "    font-size: 200%;\n",
      "    text-align: center;\n",
      "    margin: 2em 0em 2em 0em;\n",
      "    #26465D\n",
      "}\n",
      "\n",
      ".logo {\n",
      "    margin: 20px 0 20px 0;\n",
      "}\n",
      "\n",
      "a.anchor-link {\n",
      "    display: none;\n",
      "}\n",
      "\n",
      "h1.title { \n",
      "    font-size: 250%;\n",
      "}\n",
      "</style>\"\"\"\n",
      "\n",
      "display(HTML(s))"
     ],
     "language": "python",
     "metadata": {
      "slideshow": {
       "slide_type": "skip"
      }
     },
     "outputs": [
      {
       "html": [
        "\n",
        "<style>\n",
        "\n",
        ".rendered_html {\n",
        "    font-family: \"proxima-nova\", helvetica;\n",
        "    font-size: 150%;\n",
        "    line-height: 1.3;\n",
        "}\n",
        "\n",
        ".rendered_html h1 {\n",
        "    margin: 0.25em 0em 0.5em;\n",
        "    color: #932D16;\n",
        "    text-align: center;\n",
        "    line-height: 1.2; \n",
        "    page-break-before: always;\n",
        "}\n",
        "\n",
        ".rendered_html h2 {\n",
        "    margin: 1.1em 0em 0.5em;\n",
        "    color: #932D16;\n",
        "    line-height: 1.2;\n",
        "}\n",
        "\n",
        ".rendered_html h3 {\n",
        "    margin: 1.1em 0em 0.5em;\n",
        "    color: #303030;\n",
        "    line-height: 1.2;\n",
        "}\n",
        "\n",
        ".rendered_html li {\n",
        "    line-height: 1.5; \n",
        "}\n",
        "\n",
        ".prompt {\n",
        "    font-size: 120%; \n",
        "}\n",
        "\n",
        ".CodeMirror-lines {\n",
        "    font-size: 120%; \n",
        "}\n",
        "\n",
        ".output_area {\n",
        "    font-size: 120%; \n",
        "}\n",
        "\n",
        "#notebook {\n",
        "    background-image: url('files/images/witewall_3.png');\n",
        "}\n",
        "\n",
        "h1.bigtitle {\n",
        "    margin: 4cm 1cm 4cm 1cm;\n",
        "    font-size: 300%;\n",
        "}\n",
        "\n",
        "h3.point {\n",
        "    font-size: 200%;\n",
        "    text-align: center;\n",
        "    margin: 2em 0em 2em 0em;\n",
        "    #26465D\n",
        "}\n",
        "\n",
        ".logo {\n",
        "    margin: 20px 0 20px 0;\n",
        "}\n",
        "\n",
        "a.anchor-link {\n",
        "    display: none;\n",
        "}\n",
        "\n",
        "h1.title { \n",
        "    font-size: 250%;\n",
        "}\n",
        "</style>"
       ],
       "metadata": {},
       "output_type": "display_data",
       "text": [
        "<IPython.core.display.HTML at 0x108e00890>"
       ]
      }
     ],
     "prompt_number": 30
    }
   ],
   "metadata": {}
  }
 ]
}